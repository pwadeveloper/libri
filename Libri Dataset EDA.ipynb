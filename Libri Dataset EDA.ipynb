{
 "cells": [
  {
   "cell_type": "code",
   "execution_count": 1,
   "metadata": {},
   "outputs": [],
   "source": [
    "import numpy as np\n",
    "import pandas as pd\n",
    "import matplotlib.pyplot as plt"
   ]
  },
  {
   "cell_type": "markdown",
   "metadata": {},
   "source": [
    "## Import the dataset and set the `Timestamp` as the index"
   ]
  },
  {
   "cell_type": "code",
   "execution_count": 2,
   "metadata": {},
   "outputs": [
    {
     "data": {
      "text/html": [
       "<div>\n",
       "<style scoped>\n",
       "    .dataframe tbody tr th:only-of-type {\n",
       "        vertical-align: middle;\n",
       "    }\n",
       "\n",
       "    .dataframe tbody tr th {\n",
       "        vertical-align: top;\n",
       "    }\n",
       "\n",
       "    .dataframe thead th {\n",
       "        text-align: right;\n",
       "    }\n",
       "</style>\n",
       "<table border=\"1\" class=\"dataframe\">\n",
       "  <thead>\n",
       "    <tr style=\"text-align: right;\">\n",
       "      <th></th>\n",
       "      <th>Gender</th>\n",
       "      <th>Age</th>\n",
       "      <th>What's your favourite Book Genre? (optional)</th>\n",
       "      <th>What is your favourite reading medium</th>\n",
       "      <th>When you read e-books, what is your preferred device?</th>\n",
       "      <th>What is the Highest amount you have spent on a book(NGN)?</th>\n",
       "      <th>What is the lowest amount you have spent on a book(NGN)?</th>\n",
       "      <th>What is the average amount you would rather spend on a book(NGN)?</th>\n",
       "      <th>On average how long does it take you to finish a book</th>\n",
       "      <th>Do you read more than one book at a time?</th>\n",
       "      <th>What is average number of books you read yearly</th>\n",
       "    </tr>\n",
       "    <tr>\n",
       "      <th>Timestamp</th>\n",
       "      <th></th>\n",
       "      <th></th>\n",
       "      <th></th>\n",
       "      <th></th>\n",
       "      <th></th>\n",
       "      <th></th>\n",
       "      <th></th>\n",
       "      <th></th>\n",
       "      <th></th>\n",
       "      <th></th>\n",
       "      <th></th>\n",
       "    </tr>\n",
       "  </thead>\n",
       "  <tbody>\n",
       "    <tr>\n",
       "      <th>2019/08/09 8:49:30 pm CET</th>\n",
       "      <td>Male</td>\n",
       "      <td>23</td>\n",
       "      <td>Autobiography</td>\n",
       "      <td>e-book</td>\n",
       "      <td>Mobile</td>\n",
       "      <td>2099.0</td>\n",
       "      <td>30.0</td>\n",
       "      <td>2000</td>\n",
       "      <td>I take my time</td>\n",
       "      <td>Yes</td>\n",
       "      <td>20</td>\n",
       "    </tr>\n",
       "    <tr>\n",
       "      <th>2019/08/10 8:54:27 am CET</th>\n",
       "      <td>Female</td>\n",
       "      <td>12</td>\n",
       "      <td>You should allow multi selection</td>\n",
       "      <td>A blend of both</td>\n",
       "      <td>Mobile</td>\n",
       "      <td>7000.0</td>\n",
       "      <td>0.0</td>\n",
       "      <td>2000</td>\n",
       "      <td>I take my time</td>\n",
       "      <td>NaN</td>\n",
       "      <td>0</td>\n",
       "    </tr>\n",
       "    <tr>\n",
       "      <th>2019/08/10 9:01:12 am CET</th>\n",
       "      <td>Male</td>\n",
       "      <td>27</td>\n",
       "      <td>Fiction</td>\n",
       "      <td>A blend of both</td>\n",
       "      <td>Tablet</td>\n",
       "      <td>3500.0</td>\n",
       "      <td>0.0</td>\n",
       "      <td>500</td>\n",
       "      <td>I take my time</td>\n",
       "      <td>Yes</td>\n",
       "      <td>5</td>\n",
       "    </tr>\n",
       "    <tr>\n",
       "      <th>2019/08/10 9:08:16 am CET</th>\n",
       "      <td>Male</td>\n",
       "      <td>30</td>\n",
       "      <td>Fantasy</td>\n",
       "      <td>Paper Back</td>\n",
       "      <td>NaN</td>\n",
       "      <td>4500.0</td>\n",
       "      <td>500.0</td>\n",
       "      <td>3000</td>\n",
       "      <td>I take my time</td>\n",
       "      <td>No</td>\n",
       "      <td>2</td>\n",
       "    </tr>\n",
       "    <tr>\n",
       "      <th>2019/08/10 9:18:12 am CET</th>\n",
       "      <td>Male</td>\n",
       "      <td>30</td>\n",
       "      <td>Murder Mystery</td>\n",
       "      <td>A blend of both</td>\n",
       "      <td>Mobile</td>\n",
       "      <td>500.0</td>\n",
       "      <td>2001.0</td>\n",
       "      <td>1000</td>\n",
       "      <td>I take my time</td>\n",
       "      <td>No</td>\n",
       "      <td>200</td>\n",
       "    </tr>\n",
       "  </tbody>\n",
       "</table>\n",
       "</div>"
      ],
      "text/plain": [
       "                           Gender  Age  \\\n",
       "Timestamp                                \n",
       "2019/08/09 8:49:30 pm CET    Male   23   \n",
       "2019/08/10 8:54:27 am CET  Female   12   \n",
       "2019/08/10 9:01:12 am CET    Male   27   \n",
       "2019/08/10 9:08:16 am CET    Male   30   \n",
       "2019/08/10 9:18:12 am CET    Male   30   \n",
       "\n",
       "                          What's your favourite Book Genre? (optional)  \\\n",
       "Timestamp                                                                \n",
       "2019/08/09 8:49:30 pm CET                                Autobiography   \n",
       "2019/08/10 8:54:27 am CET            You should allow multi selection    \n",
       "2019/08/10 9:01:12 am CET                                      Fiction   \n",
       "2019/08/10 9:08:16 am CET                                      Fantasy   \n",
       "2019/08/10 9:18:12 am CET                               Murder Mystery   \n",
       "\n",
       "                          What is your favourite reading medium  \\\n",
       "Timestamp                                                         \n",
       "2019/08/09 8:49:30 pm CET                                e-book   \n",
       "2019/08/10 8:54:27 am CET                       A blend of both   \n",
       "2019/08/10 9:01:12 am CET                       A blend of both   \n",
       "2019/08/10 9:08:16 am CET                            Paper Back   \n",
       "2019/08/10 9:18:12 am CET                       A blend of both   \n",
       "\n",
       "                          When you read e-books, what is your preferred device?  \\\n",
       "Timestamp                                                                         \n",
       "2019/08/09 8:49:30 pm CET                                             Mobile      \n",
       "2019/08/10 8:54:27 am CET                                             Mobile      \n",
       "2019/08/10 9:01:12 am CET                                             Tablet      \n",
       "2019/08/10 9:08:16 am CET                                                NaN      \n",
       "2019/08/10 9:18:12 am CET                                             Mobile      \n",
       "\n",
       "                           What is the Highest amount you have spent on a book(NGN)?  \\\n",
       "Timestamp                                                                              \n",
       "2019/08/09 8:49:30 pm CET                                             2099.0           \n",
       "2019/08/10 8:54:27 am CET                                             7000.0           \n",
       "2019/08/10 9:01:12 am CET                                             3500.0           \n",
       "2019/08/10 9:08:16 am CET                                             4500.0           \n",
       "2019/08/10 9:18:12 am CET                                              500.0           \n",
       "\n",
       "                           What is the lowest amount you have spent on a book(NGN)?  \\\n",
       "Timestamp                                                                             \n",
       "2019/08/09 8:49:30 pm CET                                               30.0          \n",
       "2019/08/10 8:54:27 am CET                                                0.0          \n",
       "2019/08/10 9:01:12 am CET                                                0.0          \n",
       "2019/08/10 9:08:16 am CET                                              500.0          \n",
       "2019/08/10 9:18:12 am CET                                             2001.0          \n",
       "\n",
       "                           What is the average amount you would rather spend on a book(NGN)?  \\\n",
       "Timestamp                                                                                      \n",
       "2019/08/09 8:49:30 pm CET                                               2000                   \n",
       "2019/08/10 8:54:27 am CET                                               2000                   \n",
       "2019/08/10 9:01:12 am CET                                                500                   \n",
       "2019/08/10 9:08:16 am CET                                               3000                   \n",
       "2019/08/10 9:18:12 am CET                                               1000                   \n",
       "\n",
       "                          On average how long does it take you to finish a book  \\\n",
       "Timestamp                                                                         \n",
       "2019/08/09 8:49:30 pm CET                                     I take my time      \n",
       "2019/08/10 8:54:27 am CET                                     I take my time      \n",
       "2019/08/10 9:01:12 am CET                                     I take my time      \n",
       "2019/08/10 9:08:16 am CET                                     I take my time      \n",
       "2019/08/10 9:18:12 am CET                                     I take my time      \n",
       "\n",
       "                          Do you read more than one book at a time?  \\\n",
       "Timestamp                                                             \n",
       "2019/08/09 8:49:30 pm CET                                       Yes   \n",
       "2019/08/10 8:54:27 am CET                                       NaN   \n",
       "2019/08/10 9:01:12 am CET                                       Yes   \n",
       "2019/08/10 9:08:16 am CET                                        No   \n",
       "2019/08/10 9:18:12 am CET                                        No   \n",
       "\n",
       "                           What is average number of books you read yearly  \n",
       "Timestamp                                                                   \n",
       "2019/08/09 8:49:30 pm CET                                               20  \n",
       "2019/08/10 8:54:27 am CET                                                0  \n",
       "2019/08/10 9:01:12 am CET                                                5  \n",
       "2019/08/10 9:08:16 am CET                                                2  \n",
       "2019/08/10 9:18:12 am CET                                              200  "
      ]
     },
     "execution_count": 2,
     "metadata": {},
     "output_type": "execute_result"
    }
   ],
   "source": [
    "file = \"data.csv\"\n",
    "df = pd.read_csv(file, index_col=\"Timestamp\")\n",
    "df.head()"
   ]
  },
  {
   "cell_type": "markdown",
   "metadata": {},
   "source": [
    "### Carry out Basic EDA\n",
    "We start by checking the basic info. We have a total of 228 entries accross 11 columns(questions). \n",
    "The survey data was collected over 6 days from the 6th of August 2019 to the 15th of August 2019.\n",
    "Normally, having non-null values short of the total number of entries would be a course for concern.\n",
    "Alas, knowing how this data was collected helps in understanding why we have null values. The column(question)\n",
    "that preceeds it asks for the favourite reading medium. The question breaks into a conditional logic, those who choose the `Paperback` option do not see the question on preferred reading device as the question is of no relevance\n",
    "to them."
   ]
  },
  {
   "cell_type": "code",
   "execution_count": 3,
   "metadata": {},
   "outputs": [
    {
     "name": "stdout",
     "output_type": "stream",
     "text": [
      "<class 'pandas.core.frame.DataFrame'>\n",
      "Index: 228 entries, 2019/08/09 8:49:30 pm CET to 2019/08/19 1:06:46 am CET\n",
      "Data columns (total 11 columns):\n",
      "Gender                                                               228 non-null object\n",
      "Age                                                                  228 non-null int64\n",
      "What's your favourite Book Genre? (optional)                         228 non-null object\n",
      "What is your favourite reading medium                                228 non-null object\n",
      "When you read e-books, what is your preferred device?                176 non-null object\n",
      "What is the Highest amount you have spent on a book(NGN)?            228 non-null float64\n",
      "What is the lowest amount you have spent on a book(NGN)?             228 non-null float64\n",
      "What is the average amount you would rather spend on a book(NGN)?    228 non-null int64\n",
      "On average how long does it take you to finish a book                228 non-null object\n",
      "Do you read more than one book at a time?                            227 non-null object\n",
      "What is average number of books you read yearly                      228 non-null int64\n",
      "dtypes: float64(2), int64(3), object(6)\n",
      "memory usage: 21.4+ KB\n"
     ]
    }
   ],
   "source": [
    "df.info()"
   ]
  },
  {
   "cell_type": "markdown",
   "metadata": {},
   "source": [
    "### Create a small dataframe to show the percentage cetegory of each reading medium"
   ]
  },
  {
   "cell_type": "code",
   "execution_count": 4,
   "metadata": {},
   "outputs": [
    {
     "data": {
      "text/html": [
       "<div>\n",
       "<style scoped>\n",
       "    .dataframe tbody tr th:only-of-type {\n",
       "        vertical-align: middle;\n",
       "    }\n",
       "\n",
       "    .dataframe tbody tr th {\n",
       "        vertical-align: top;\n",
       "    }\n",
       "\n",
       "    .dataframe thead th {\n",
       "        text-align: right;\n",
       "    }\n",
       "</style>\n",
       "<table border=\"1\" class=\"dataframe\">\n",
       "  <thead>\n",
       "    <tr style=\"text-align: right;\">\n",
       "      <th></th>\n",
       "      <th>count</th>\n",
       "      <th>percent</th>\n",
       "    </tr>\n",
       "  </thead>\n",
       "  <tbody>\n",
       "    <tr>\n",
       "      <th>A blend of both</th>\n",
       "      <td>129</td>\n",
       "      <td>56.58</td>\n",
       "    </tr>\n",
       "    <tr>\n",
       "      <th>Paper Back</th>\n",
       "      <td>52</td>\n",
       "      <td>22.81</td>\n",
       "    </tr>\n",
       "    <tr>\n",
       "      <th>e-book</th>\n",
       "      <td>47</td>\n",
       "      <td>20.61</td>\n",
       "    </tr>\n",
       "  </tbody>\n",
       "</table>\n",
       "</div>"
      ],
      "text/plain": [
       "                 count  percent\n",
       "A blend of both    129    56.58\n",
       "Paper Back          52    22.81\n",
       "e-book              47    20.61"
      ]
     },
     "execution_count": 4,
     "metadata": {},
     "output_type": "execute_result"
    }
   ],
   "source": [
    "paperback = df['What is your favourite reading medium']\n",
    "counts = paperback.value_counts()\n",
    "percentage = paperback.value_counts(normalize = True).mul(100).round(2)\n",
    "reading_medium = pd.DataFrame({'count':counts, 'percent':percentage})\n",
    "\n",
    "reading_medium"
   ]
  },
  {
   "cell_type": "markdown",
   "metadata": {},
   "source": [
    "### At the moment, we plan to carry out analysis on those who read with digital devices"
   ]
  },
  {
   "cell_type": "code",
   "execution_count": 5,
   "metadata": {},
   "outputs": [],
   "source": [
    "not_only_paper = df['What is your favourite reading medium'] != 'Paper Back'\n",
    "digital_responses = df[not_only_paper]\n",
    "\n",
    "df_new = digital_responses"
   ]
  },
  {
   "cell_type": "code",
   "execution_count": 6,
   "metadata": {},
   "outputs": [
    {
     "data": {
      "text/html": [
       "<div>\n",
       "<style scoped>\n",
       "    .dataframe tbody tr th:only-of-type {\n",
       "        vertical-align: middle;\n",
       "    }\n",
       "\n",
       "    .dataframe tbody tr th {\n",
       "        vertical-align: top;\n",
       "    }\n",
       "\n",
       "    .dataframe thead th {\n",
       "        text-align: right;\n",
       "    }\n",
       "</style>\n",
       "<table border=\"1\" class=\"dataframe\">\n",
       "  <thead>\n",
       "    <tr style=\"text-align: right;\">\n",
       "      <th></th>\n",
       "      <th>Age</th>\n",
       "      <th>What is the Highest amount you have spent on a book(NGN)?</th>\n",
       "      <th>What is the lowest amount you have spent on a book(NGN)?</th>\n",
       "      <th>What is the average amount you would rather spend on a book(NGN)?</th>\n",
       "      <th>What is average number of books you read yearly</th>\n",
       "    </tr>\n",
       "  </thead>\n",
       "  <tbody>\n",
       "    <tr>\n",
       "      <th>count</th>\n",
       "      <td>176.000000</td>\n",
       "      <td>176.000000</td>\n",
       "      <td>176.000000</td>\n",
       "      <td>176.000000</td>\n",
       "      <td>176.000000</td>\n",
       "    </tr>\n",
       "    <tr>\n",
       "      <th>mean</th>\n",
       "      <td>26.647727</td>\n",
       "      <td>6014.426136</td>\n",
       "      <td>785.232955</td>\n",
       "      <td>3778.431818</td>\n",
       "      <td>26.835227</td>\n",
       "    </tr>\n",
       "    <tr>\n",
       "      <th>std</th>\n",
       "      <td>5.936887</td>\n",
       "      <td>9384.701464</td>\n",
       "      <td>2552.059808</td>\n",
       "      <td>8009.249583</td>\n",
       "      <td>83.198909</td>\n",
       "    </tr>\n",
       "    <tr>\n",
       "      <th>min</th>\n",
       "      <td>0.000000</td>\n",
       "      <td>0.000000</td>\n",
       "      <td>0.000000</td>\n",
       "      <td>0.000000</td>\n",
       "      <td>0.000000</td>\n",
       "    </tr>\n",
       "    <tr>\n",
       "      <th>25%</th>\n",
       "      <td>23.000000</td>\n",
       "      <td>1500.000000</td>\n",
       "      <td>187.500000</td>\n",
       "      <td>1000.000000</td>\n",
       "      <td>5.000000</td>\n",
       "    </tr>\n",
       "    <tr>\n",
       "      <th>50%</th>\n",
       "      <td>26.000000</td>\n",
       "      <td>4000.000000</td>\n",
       "      <td>400.000000</td>\n",
       "      <td>2000.000000</td>\n",
       "      <td>10.000000</td>\n",
       "    </tr>\n",
       "    <tr>\n",
       "      <th>75%</th>\n",
       "      <td>30.000000</td>\n",
       "      <td>7000.000000</td>\n",
       "      <td>625.000000</td>\n",
       "      <td>4000.000000</td>\n",
       "      <td>20.000000</td>\n",
       "    </tr>\n",
       "    <tr>\n",
       "      <th>max</th>\n",
       "      <td>44.000000</td>\n",
       "      <td>104000.000000</td>\n",
       "      <td>30000.000000</td>\n",
       "      <td>75000.000000</td>\n",
       "      <td>800.000000</td>\n",
       "    </tr>\n",
       "  </tbody>\n",
       "</table>\n",
       "</div>"
      ],
      "text/plain": [
       "              Age  What is the Highest amount you have spent on a book(NGN)?  \\\n",
       "count  176.000000                                         176.000000           \n",
       "mean    26.647727                                        6014.426136           \n",
       "std      5.936887                                        9384.701464           \n",
       "min      0.000000                                           0.000000           \n",
       "25%     23.000000                                        1500.000000           \n",
       "50%     26.000000                                        4000.000000           \n",
       "75%     30.000000                                        7000.000000           \n",
       "max     44.000000                                      104000.000000           \n",
       "\n",
       "       What is the lowest amount you have spent on a book(NGN)?  \\\n",
       "count                                         176.000000          \n",
       "mean                                          785.232955          \n",
       "std                                          2552.059808          \n",
       "min                                             0.000000          \n",
       "25%                                           187.500000          \n",
       "50%                                           400.000000          \n",
       "75%                                           625.000000          \n",
       "max                                         30000.000000          \n",
       "\n",
       "       What is the average amount you would rather spend on a book(NGN)?  \\\n",
       "count                                         176.000000                   \n",
       "mean                                         3778.431818                   \n",
       "std                                          8009.249583                   \n",
       "min                                             0.000000                   \n",
       "25%                                          1000.000000                   \n",
       "50%                                          2000.000000                   \n",
       "75%                                          4000.000000                   \n",
       "max                                         75000.000000                   \n",
       "\n",
       "       What is average number of books you read yearly  \n",
       "count                                       176.000000  \n",
       "mean                                         26.835227  \n",
       "std                                          83.198909  \n",
       "min                                           0.000000  \n",
       "25%                                           5.000000  \n",
       "50%                                          10.000000  \n",
       "75%                                          20.000000  \n",
       "max                                         800.000000  "
      ]
     },
     "execution_count": 6,
     "metadata": {},
     "output_type": "execute_result"
    }
   ],
   "source": [
    "df_new.describe()"
   ]
  },
  {
   "cell_type": "markdown",
   "metadata": {},
   "source": [
    "### Taking a closer look\n",
    "We see from the discriptive statistics above that the mean may not be the perfect way to look at the values in \n",
    "all the responses shown, mostly because people took the survey and spoofed the values with outrageous responses. We are going to have to take a look at the mean values."
   ]
  },
  {
   "cell_type": "code",
   "execution_count": 7,
   "metadata": {},
   "outputs": [
    {
     "data": {
      "text/plain": [
       "Age                                                                    26.647727\n",
       "What is the Highest amount you have spent on a book(NGN)?            6014.426136\n",
       "What is the lowest amount you have spent on a book(NGN)?              785.232955\n",
       "What is the average amount you would rather spend on a book(NGN)?    3778.431818\n",
       "What is average number of books you read yearly                        26.835227\n",
       "dtype: float64"
      ]
     },
     "execution_count": 7,
     "metadata": {},
     "output_type": "execute_result"
    }
   ],
   "source": [
    "df_new.mean()"
   ]
  },
  {
   "cell_type": "code",
   "execution_count": 8,
   "metadata": {},
   "outputs": [
    {
     "data": {
      "text/plain": [
       "Age                                                                    26.0\n",
       "What is the Highest amount you have spent on a book(NGN)?            4000.0\n",
       "What is the lowest amount you have spent on a book(NGN)?              400.0\n",
       "What is the average amount you would rather spend on a book(NGN)?    2000.0\n",
       "What is average number of books you read yearly                        10.0\n",
       "dtype: float64"
      ]
     },
     "execution_count": 8,
     "metadata": {},
     "output_type": "execute_result"
    }
   ],
   "source": [
    "df_new.median()"
   ]
  },
  {
   "cell_type": "code",
   "execution_count": 9,
   "metadata": {},
   "outputs": [
    {
     "name": "stdout",
     "output_type": "stream",
     "text": [
      "The Mean age of those who took the survey  26.6\n"
     ]
    },
    {
     "data": {
      "image/png": "[encoded data removed]",
      "text/plain": [
       "<Figure size 432x288 with 1 Axes>"
      ]
     },
     "metadata": {
      "needs_background": "light"
     },
     "output_type": "display_data"
    }
   ],
   "source": [
    "print(\"The Mean age of those who took the survey \", round(np.mean(df_new.Age), 1))\n",
    "df_new.Age.plot(kind='hist', bins =15).set_xlabel('Age')\n",
    "plt.show()"
   ]
  },
  {
   "cell_type": "markdown",
   "metadata": {},
   "source": [
    "### Boxplot of amount spent on books, also helps to easily identify outliers"
   ]
  },
  {
   "cell_type": "code",
   "execution_count": 10,
   "metadata": {},
   "outputs": [
    {
     "name": "stdout",
     "output_type": "stream",
     "text": [
      "Median Highest Amount Spent on books 4000.0\n"
     ]
    },
    {
     "data": {
      "image/png": "[encoded data removed]",
      "text/plain": [
       "<Figure size 1368x504 with 1 Axes>"
      ]
     },
     "metadata": {
      "needs_background": "light"
     },
     "output_type": "display_data"
    }
   ],
   "source": [
    "fig, ax = plt.subplots()\n",
    "fig.set_size_inches(19, 7)\n",
    "ax.set_title('What is the Highest amount you have spent on a book(NGN)?')\n",
    "ax.boxplot(df_new['What is the Highest amount you have spent on a book(NGN)?'], vert=False)\n",
    "\n",
    "print(\"Median Highest Amount Spent on books\",df_new['What is the Highest amount you have spent on a book(NGN)?'].median())"
   ]
  },
  {
   "cell_type": "code",
   "execution_count": 11,
   "metadata": {},
   "outputs": [
    {
     "name": "stdout",
     "output_type": "stream",
     "text": [
      "Median Lowest Amount Spent on books 400.0\n"
     ]
    },
    {
     "data": {
      "image/png": "[encoded data removed]",
      "text/plain": [
       "<Figure size 1368x504 with 1 Axes>"
      ]
     },
     "metadata": {
      "needs_background": "light"
     },
     "output_type": "display_data"
    }
   ],
   "source": [
    "fig2, ax2 = plt.subplots()\n",
    "fig2.set_size_inches(19, 7)\n",
    "ax2.set_title('What is the lowest amount you have spent on a book(NGN)?')\n",
    "ax2.boxplot(df_new['What is the lowest amount you have spent on a book(NGN)?'], vert=False)\n",
    "\n",
    "#due to the obvious and absurd outliers, we would use median as a more accurate representation of the data\n",
    "print(\"Median Lowest Amount Spent on books\", df_new[\"What is the lowest amount you have spent on a book(NGN)?\"].median())"
   ]
  },
  {
   "cell_type": "code",
   "execution_count": 12,
   "metadata": {},
   "outputs": [
    {
     "name": "stdout",
     "output_type": "stream",
     "text": [
      "Average amount people would rather spend on books 2000.0\n"
     ]
    },
    {
     "data": {
      "image/png": "[encoded data removed]",
      "text/plain": [
       "<Figure size 1296x504 with 1 Axes>"
      ]
     },
     "metadata": {
      "needs_background": "light"
     },
     "output_type": "display_data"
    }
   ],
   "source": [
    "fig3, ax3 = plt.subplots()\n",
    "fig3.set_size_inches(18, 7)\n",
    "ax3.set_title('What is the average amount you would rather spend on a book(NGN)?')\n",
    "ax3.boxplot(df_new['What is the average amount you would rather spend on a book(NGN)?'], vert=False)\n",
    "\n",
    "print(\"Average amount people would rather spend on books\",df_new['What is the average amount you would rather spend on a book(NGN)?'].median())\n",
    "      "
   ]
  },
  {
   "cell_type": "code",
   "execution_count": 13,
   "metadata": {},
   "outputs": [
    {
     "name": "stdout",
     "output_type": "stream",
     "text": [
      "Median Number of books read yearly: 26.8\n"
     ]
    },
    {
     "data": {
      "image/png": "[encoded data removed]",
      "text/plain": [
       "<Figure size 1368x504 with 1 Axes>"
      ]
     },
     "metadata": {
      "needs_background": "light"
     },
     "output_type": "display_data"
    }
   ],
   "source": [
    "fig4, ax4= plt.subplots()\n",
    "fig4.set_size_inches(19, 7)\n",
    "ax4.set_title('What is average number of books you read yearly')\n",
    "ax4.boxplot(df_new['What is average number of books you read yearly'], vert=False)\n",
    "\n",
    "print(\"Median Number of books read yearly:\", \n",
    "      round(np.mean(df_new['What is average number of books you read yearly']), 1))"
   ]
  },
  {
   "cell_type": "code",
   "execution_count": 14,
   "metadata": {},
   "outputs": [
    {
     "data": {
      "text/html": [
       "<div>\n",
       "<style scoped>\n",
       "    .dataframe tbody tr th:only-of-type {\n",
       "        vertical-align: middle;\n",
       "    }\n",
       "\n",
       "    .dataframe tbody tr th {\n",
       "        vertical-align: top;\n",
       "    }\n",
       "\n",
       "    .dataframe thead th {\n",
       "        text-align: right;\n",
       "    }\n",
       "</style>\n",
       "<table border=\"1\" class=\"dataframe\">\n",
       "  <thead>\n",
       "    <tr style=\"text-align: right;\">\n",
       "      <th></th>\n",
       "      <th>Age</th>\n",
       "      <th>What is the Highest amount you have spent on a book(NGN)?</th>\n",
       "      <th>What is the lowest amount you have spent on a book(NGN)?</th>\n",
       "      <th>What is the average amount you would rather spend on a book(NGN)?</th>\n",
       "      <th>What is average number of books you read yearly</th>\n",
       "    </tr>\n",
       "  </thead>\n",
       "  <tbody>\n",
       "    <tr>\n",
       "      <th>count</th>\n",
       "      <td>176.000000</td>\n",
       "      <td>176.000000</td>\n",
       "      <td>176.000000</td>\n",
       "      <td>176.000000</td>\n",
       "      <td>176.000000</td>\n",
       "    </tr>\n",
       "    <tr>\n",
       "      <th>mean</th>\n",
       "      <td>26.647727</td>\n",
       "      <td>6014.426136</td>\n",
       "      <td>785.232955</td>\n",
       "      <td>3778.431818</td>\n",
       "      <td>26.835227</td>\n",
       "    </tr>\n",
       "    <tr>\n",
       "      <th>std</th>\n",
       "      <td>5.936887</td>\n",
       "      <td>9384.701464</td>\n",
       "      <td>2552.059808</td>\n",
       "      <td>8009.249583</td>\n",
       "      <td>83.198909</td>\n",
       "    </tr>\n",
       "    <tr>\n",
       "      <th>min</th>\n",
       "      <td>0.000000</td>\n",
       "      <td>0.000000</td>\n",
       "      <td>0.000000</td>\n",
       "      <td>0.000000</td>\n",
       "      <td>0.000000</td>\n",
       "    </tr>\n",
       "    <tr>\n",
       "      <th>25%</th>\n",
       "      <td>23.000000</td>\n",
       "      <td>1500.000000</td>\n",
       "      <td>187.500000</td>\n",
       "      <td>1000.000000</td>\n",
       "      <td>5.000000</td>\n",
       "    </tr>\n",
       "    <tr>\n",
       "      <th>50%</th>\n",
       "      <td>26.000000</td>\n",
       "      <td>4000.000000</td>\n",
       "      <td>400.000000</td>\n",
       "      <td>2000.000000</td>\n",
       "      <td>10.000000</td>\n",
       "    </tr>\n",
       "    <tr>\n",
       "      <th>75%</th>\n",
       "      <td>30.000000</td>\n",
       "      <td>7000.000000</td>\n",
       "      <td>625.000000</td>\n",
       "      <td>4000.000000</td>\n",
       "      <td>20.000000</td>\n",
       "    </tr>\n",
       "    <tr>\n",
       "      <th>max</th>\n",
       "      <td>44.000000</td>\n",
       "      <td>104000.000000</td>\n",
       "      <td>30000.000000</td>\n",
       "      <td>75000.000000</td>\n",
       "      <td>800.000000</td>\n",
       "    </tr>\n",
       "  </tbody>\n",
       "</table>\n",
       "</div>"
      ],
      "text/plain": [
       "              Age  What is the Highest amount you have spent on a book(NGN)?  \\\n",
       "count  176.000000                                         176.000000           \n",
       "mean    26.647727                                        6014.426136           \n",
       "std      5.936887                                        9384.701464           \n",
       "min      0.000000                                           0.000000           \n",
       "25%     23.000000                                        1500.000000           \n",
       "50%     26.000000                                        4000.000000           \n",
       "75%     30.000000                                        7000.000000           \n",
       "max     44.000000                                      104000.000000           \n",
       "\n",
       "       What is the lowest amount you have spent on a book(NGN)?  \\\n",
       "count                                         176.000000          \n",
       "mean                                          785.232955          \n",
       "std                                          2552.059808          \n",
       "min                                             0.000000          \n",
       "25%                                           187.500000          \n",
       "50%                                           400.000000          \n",
       "75%                                           625.000000          \n",
       "max                                         30000.000000          \n",
       "\n",
       "       What is the average amount you would rather spend on a book(NGN)?  \\\n",
       "count                                         176.000000                   \n",
       "mean                                         3778.431818                   \n",
       "std                                          8009.249583                   \n",
       "min                                             0.000000                   \n",
       "25%                                          1000.000000                   \n",
       "50%                                          2000.000000                   \n",
       "75%                                          4000.000000                   \n",
       "max                                         75000.000000                   \n",
       "\n",
       "       What is average number of books you read yearly  \n",
       "count                                       176.000000  \n",
       "mean                                         26.835227  \n",
       "std                                          83.198909  \n",
       "min                                           0.000000  \n",
       "25%                                           5.000000  \n",
       "50%                                          10.000000  \n",
       "75%                                          20.000000  \n",
       "max                                         800.000000  "
      ]
     },
     "execution_count": 14,
     "metadata": {},
     "output_type": "execute_result"
    }
   ],
   "source": [
    "df_new.describe()"
   ]
  }
 ],
 "metadata": {
  "kernelspec": {
   "display_name": "Python 3",
   "language": "python",
   "name": "python3"
  },
  "language_info": {
   "codemirror_mode": {
    "name": "ipython",
    "version": 3
   },
   "file_extension": ".py",
   "mimetype": "text/x-python",
   "name": "python",
   "nbconvert_exporter": "python",
   "pygments_lexer": "ipython3",
   "version": "3.7.3"
  }
 },
 "nbformat": 4,
 "nbformat_minor": 2
}
